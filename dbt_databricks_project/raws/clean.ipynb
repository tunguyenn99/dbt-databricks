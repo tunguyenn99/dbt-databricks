{
 "cells": [
  {
   "cell_type": "code",
   "execution_count": 11,
   "id": "c0dd7d6e",
   "metadata": {},
   "outputs": [],
   "source": [
    "import pandas as pd\n",
    "import re"
   ]
  },
  {
   "cell_type": "code",
   "execution_count": 12,
   "id": "bd204bc0",
   "metadata": {},
   "outputs": [
    {
     "data": {
      "text/html": [
       "<div>\n",
       "<style scoped>\n",
       "    .dataframe tbody tr th:only-of-type {\n",
       "        vertical-align: middle;\n",
       "    }\n",
       "\n",
       "    .dataframe tbody tr th {\n",
       "        vertical-align: top;\n",
       "    }\n",
       "\n",
       "    .dataframe thead th {\n",
       "        text-align: right;\n",
       "    }\n",
       "</style>\n",
       "<table border=\"1\" class=\"dataframe\">\n",
       "  <thead>\n",
       "    <tr style=\"text-align: right;\">\n",
       "      <th></th>\n",
       "      <th>employee_id</th>\n",
       "      <th>full_name</th>\n",
       "      <th>job_title</th>\n",
       "      <th>department</th>\n",
       "      <th>business_unit</th>\n",
       "      <th>gender</th>\n",
       "      <th>ethnicity</th>\n",
       "      <th>age</th>\n",
       "      <th>hire_date</th>\n",
       "      <th>annual_salary</th>\n",
       "      <th>bonus</th>\n",
       "      <th>country</th>\n",
       "      <th>city</th>\n",
       "      <th>exit_date</th>\n",
       "      <th>latitude</th>\n",
       "      <th>longitude</th>\n",
       "    </tr>\n",
       "  </thead>\n",
       "  <tbody>\n",
       "    <tr>\n",
       "      <th>0</th>\n",
       "      <td>E00005</td>\n",
       "      <td>Riley Washington</td>\n",
       "      <td>Director</td>\n",
       "      <td>Sales</td>\n",
       "      <td>Speciality Products</td>\n",
       "      <td>Female</td>\n",
       "      <td>Caucasian</td>\n",
       "      <td>39</td>\n",
       "      <td>4/29/2007</td>\n",
       "      <td>$171,487</td>\n",
       "      <td>0.23</td>\n",
       "      <td>United States</td>\n",
       "      <td>Phoenix</td>\n",
       "      <td>NaN</td>\n",
       "      <td>33.604978</td>\n",
       "      <td>-112.454690</td>\n",
       "    </tr>\n",
       "    <tr>\n",
       "      <th>1</th>\n",
       "      <td>E00013</td>\n",
       "      <td>Raelynn Ma</td>\n",
       "      <td>Senior Analyst</td>\n",
       "      <td>Finance</td>\n",
       "      <td>Speciality Products</td>\n",
       "      <td>Female</td>\n",
       "      <td>Asian</td>\n",
       "      <td>33</td>\n",
       "      <td>10/8/2015</td>\n",
       "      <td>$94,876</td>\n",
       "      <td>0.00</td>\n",
       "      <td>United States</td>\n",
       "      <td>Miami</td>\n",
       "      <td>NaN</td>\n",
       "      <td>25.782384</td>\n",
       "      <td>-80.311859</td>\n",
       "    </tr>\n",
       "    <tr>\n",
       "      <th>2</th>\n",
       "      <td>E00013</td>\n",
       "      <td>Elena Vang</td>\n",
       "      <td>Analyst</td>\n",
       "      <td>Finance</td>\n",
       "      <td>Corporate</td>\n",
       "      <td>Female</td>\n",
       "      <td>Asian</td>\n",
       "      <td>52</td>\n",
       "      <td>2/19/2019</td>\n",
       "      <td>$55,859</td>\n",
       "      <td>0.00</td>\n",
       "      <td>China</td>\n",
       "      <td>Beijing</td>\n",
       "      <td>NaN</td>\n",
       "      <td>39.938417</td>\n",
       "      <td>116.067824</td>\n",
       "    </tr>\n",
       "    <tr>\n",
       "      <th>3</th>\n",
       "      <td>E00022</td>\n",
       "      <td>Elena Her</td>\n",
       "      <td>Account Representative</td>\n",
       "      <td>Sales</td>\n",
       "      <td>Manufacturing</td>\n",
       "      <td>Female</td>\n",
       "      <td>Asian</td>\n",
       "      <td>62</td>\n",
       "      <td>9/17/2006</td>\n",
       "      <td>$64,669</td>\n",
       "      <td>0.00</td>\n",
       "      <td>China</td>\n",
       "      <td>Chongqing</td>\n",
       "      <td>NaN</td>\n",
       "      <td>29.554811</td>\n",
       "      <td>106.383746</td>\n",
       "    </tr>\n",
       "    <tr>\n",
       "      <th>4</th>\n",
       "      <td>E00023</td>\n",
       "      <td>Gabriel Joseph</td>\n",
       "      <td>Director</td>\n",
       "      <td>Engineering</td>\n",
       "      <td>Manufacturing</td>\n",
       "      <td>Male</td>\n",
       "      <td>Caucasian</td>\n",
       "      <td>52</td>\n",
       "      <td>10/28/2006</td>\n",
       "      <td>$187,992</td>\n",
       "      <td>0.28</td>\n",
       "      <td>United States</td>\n",
       "      <td>Miami</td>\n",
       "      <td>NaN</td>\n",
       "      <td>25.782384</td>\n",
       "      <td>-80.311859</td>\n",
       "    </tr>\n",
       "  </tbody>\n",
       "</table>\n",
       "</div>"
      ],
      "text/plain": [
       "  employee_id         full_name               job_title   department  \\\n",
       "0      E00005  Riley Washington                Director        Sales   \n",
       "1      E00013        Raelynn Ma          Senior Analyst      Finance   \n",
       "2      E00013        Elena Vang                 Analyst      Finance   \n",
       "3      E00022         Elena Her  Account Representative        Sales   \n",
       "4      E00023    Gabriel Joseph                Director  Engineering   \n",
       "\n",
       "         business_unit  gender  ethnicity  age   hire_date annual_salary  \\\n",
       "0  Speciality Products  Female  Caucasian   39   4/29/2007     $171,487    \n",
       "1  Speciality Products  Female      Asian   33   10/8/2015      $94,876    \n",
       "2            Corporate  Female      Asian   52   2/19/2019      $55,859    \n",
       "3        Manufacturing  Female      Asian   62   9/17/2006      $64,669    \n",
       "4        Manufacturing    Male  Caucasian   52  10/28/2006     $187,992    \n",
       "\n",
       "   bonus        country       city exit_date   latitude   longitude  \n",
       "0   0.23  United States    Phoenix       NaN  33.604978 -112.454690  \n",
       "1   0.00  United States      Miami       NaN  25.782384  -80.311859  \n",
       "2   0.00          China    Beijing       NaN  39.938417  116.067824  \n",
       "3   0.00          China  Chongqing       NaN  29.554811  106.383746  \n",
       "4   0.28  United States      Miami       NaN  25.782384  -80.311859  "
      ]
     },
     "execution_count": 12,
     "metadata": {},
     "output_type": "execute_result"
    }
   ],
   "source": [
    "df = pd.read_csv('hr_raw_data.csv')\n",
    "df.head()"
   ]
  },
  {
   "cell_type": "code",
   "execution_count": 13,
   "id": "bab8aafc",
   "metadata": {},
   "outputs": [
    {
     "name": "stdout",
     "output_type": "stream",
     "text": [
      "<class 'pandas.core.frame.DataFrame'>\n",
      "RangeIndex: 1000 entries, 0 to 999\n",
      "Data columns (total 16 columns):\n",
      " #   Column         Non-Null Count  Dtype  \n",
      "---  ------         --------------  -----  \n",
      " 0   employee_id    1000 non-null   object \n",
      " 1   full_name      1000 non-null   object \n",
      " 2   job_title      1000 non-null   object \n",
      " 3   department     1000 non-null   object \n",
      " 4   business_unit  1000 non-null   object \n",
      " 5   gender         1000 non-null   object \n",
      " 6   ethnicity      1000 non-null   object \n",
      " 7   age            1000 non-null   int64  \n",
      " 8   hire_date      1000 non-null   object \n",
      " 9   annual_salary  1000 non-null   object \n",
      " 10  bonus          1000 non-null   float64\n",
      " 11  country        1000 non-null   object \n",
      " 12  city           1000 non-null   object \n",
      " 13  exit_date      85 non-null     object \n",
      " 14  latitude       1000 non-null   float64\n",
      " 15  longitude      1000 non-null   float64\n",
      "dtypes: float64(3), int64(1), object(12)\n",
      "memory usage: 125.1+ KB\n"
     ]
    }
   ],
   "source": [
    "df.info()"
   ]
  },
  {
   "cell_type": "code",
   "execution_count": 14,
   "id": "6f7ffa68",
   "metadata": {},
   "outputs": [
    {
     "data": {
      "text/plain": [
       "['employee_id',\n",
       " 'full_name',\n",
       " 'job_title',\n",
       " 'department',\n",
       " 'business_unit',\n",
       " 'gender',\n",
       " 'ethnicity',\n",
       " 'age',\n",
       " 'hire_date',\n",
       " 'annual_salary',\n",
       " 'bonus',\n",
       " 'country',\n",
       " 'city',\n",
       " 'exit_date',\n",
       " 'latitude',\n",
       " 'longitude']"
      ]
     },
     "execution_count": 14,
     "metadata": {},
     "output_type": "execute_result"
    }
   ],
   "source": [
    "cleaned_columns = [col.strip().lower() for col in df.columns]\n",
    "cleaned_columns"
   ]
  },
  {
   "cell_type": "code",
   "execution_count": 15,
   "id": "7a20327f",
   "metadata": {},
   "outputs": [
    {
     "data": {
      "text/plain": [
       "['employee_id',\n",
       " 'full_name',\n",
       " 'job_title',\n",
       " 'department',\n",
       " 'business_unit',\n",
       " 'gender',\n",
       " 'ethnicity',\n",
       " 'age',\n",
       " 'hire_date',\n",
       " 'annual_salary',\n",
       " 'bonus',\n",
       " 'country',\n",
       " 'city',\n",
       " 'exit_date',\n",
       " 'latitude',\n",
       " 'longitude']"
      ]
     },
     "execution_count": 15,
     "metadata": {},
     "output_type": "execute_result"
    }
   ],
   "source": [
    "rename_map = {\n",
    "    'bonus %': 'bonus',\n",
    "    'employee id': 'employee_id',\n",
    "    'full name': 'full_name',\n",
    "    'job title': 'job_title',\n",
    "    'business unit': 'business_unit',\n",
    "    'hire date': 'hire_date',\n",
    "    'exit date': 'exit_date'\n",
    "}\n",
    "\n",
    "final_columns = [\n",
    "    rename_map.get(col, re.sub(r'[^a-zA-Z0-9_]', '_', col))\n",
    "    for col in cleaned_columns\n",
    "]\n",
    "\n",
    "final_columns"
   ]
  },
  {
   "cell_type": "code",
   "execution_count": 16,
   "id": "d845573f",
   "metadata": {},
   "outputs": [],
   "source": [
    "df.columns = final_columns"
   ]
  },
  {
   "cell_type": "code",
   "execution_count": 17,
   "id": "dd73732d",
   "metadata": {},
   "outputs": [],
   "source": [
    "df.to_csv('../seeds/hr_raw_data.csv', index=False)"
   ]
  }
 ],
 "metadata": {
  "kernelspec": {
   "display_name": "venv",
   "language": "python",
   "name": "python3"
  },
  "language_info": {
   "codemirror_mode": {
    "name": "ipython",
    "version": 3
   },
   "file_extension": ".py",
   "mimetype": "text/x-python",
   "name": "python",
   "nbconvert_exporter": "python",
   "pygments_lexer": "ipython3",
   "version": "3.8.10"
  }
 },
 "nbformat": 4,
 "nbformat_minor": 5
}
